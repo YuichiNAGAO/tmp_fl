{
 "cells": [
  {
   "cell_type": "code",
   "execution_count": 9,
   "id": "409a4dd2",
   "metadata": {},
   "outputs": [
    {
     "ename": "NameError",
     "evalue": "name '__file__' is not defined",
     "output_type": "error",
     "traceback": [
      "\u001b[0;31m---------------------------------------------------------------------------\u001b[0m",
      "\u001b[0;31mNameError\u001b[0m                                 Traceback (most recent call last)",
      "\u001b[0;32m<ipython-input-9-da9c3f848bd4>\u001b[0m in \u001b[0;36m<module>\u001b[0;34m\u001b[0m\n\u001b[1;32m      1\u001b[0m \u001b[0;32mimport\u001b[0m \u001b[0msys\u001b[0m\u001b[0;34m\u001b[0m\u001b[0;34m\u001b[0m\u001b[0m\n\u001b[1;32m      2\u001b[0m \u001b[0;32mimport\u001b[0m \u001b[0mos\u001b[0m\u001b[0;34m\u001b[0m\u001b[0;34m\u001b[0m\u001b[0m\n\u001b[0;32m----> 3\u001b[0;31m \u001b[0msys\u001b[0m\u001b[0;34m.\u001b[0m\u001b[0mpath\u001b[0m\u001b[0;34m.\u001b[0m\u001b[0mappend\u001b[0m\u001b[0;34m(\u001b[0m\u001b[0mos\u001b[0m\u001b[0;34m.\u001b[0m\u001b[0mpath\u001b[0m\u001b[0;34m.\u001b[0m\u001b[0mjoin\u001b[0m\u001b[0;34m(\u001b[0m\u001b[0mos\u001b[0m\u001b[0;34m.\u001b[0m\u001b[0mpath\u001b[0m\u001b[0;34m.\u001b[0m\u001b[0mdirname\u001b[0m\u001b[0;34m(\u001b[0m\u001b[0m__file__\u001b[0m\u001b[0;34m)\u001b[0m\u001b[0;34m,\u001b[0m \u001b[0;34m\"..\"\u001b[0m\u001b[0;34m)\u001b[0m\u001b[0;34m)\u001b[0m\u001b[0;34m\u001b[0m\u001b[0;34m\u001b[0m\u001b[0m\n\u001b[0m",
      "\u001b[0;31mNameError\u001b[0m: name '__file__' is not defined"
     ]
    }
   ],
   "source": [
    "import sys\n",
    "import os\n",
    "sys.path.append(os.path.join(os.path.dirname(__file__), \"..\"))"
   ]
  },
  {
   "cell_type": "code",
   "execution_count": 42,
   "id": "2c960137",
   "metadata": {},
   "outputs": [],
   "source": [
    "import functools\n",
    "\n",
    "def configure_gpu(world_conf):\n",
    "    # the logic of world_conf follows \"a,b,c,d,e\" where:\n",
    "    # the block range from 'a' to 'b' with interval 'c' (and each integer will repeat for 'd' time);\n",
    "    # the block will be repeated for 'e' times.\n",
    "    start, stop, interval, local_repeat, block_repeat = [\n",
    "        int(x) for x in world_conf.split(\",\")\n",
    "    ]\n",
    "    _block = [\n",
    "        [x] * local_repeat for x in range(start, stop + 1, interval)\n",
    "    ] * block_repeat\n",
    "    world_list = functools.reduce(lambda a, b: a + b, _block)\n",
    "    return world_list\n",
    "\n",
    "class PhysicalLayout(object):\n",
    "    def __init__(self, n_participated, world, world_conf, on_cuda):\n",
    "        self.n_participated = n_participated\n",
    "        self._world = self.configure_world(world, world_conf)\n",
    "        self._on_cuda = on_cuda\n",
    "        self.rank = -1\n",
    "\n",
    "    def configure_world(self, world, world_conf):\n",
    "        if world is not None:\n",
    "            world_list = world.split(\",\")\n",
    "            assert self.n_participated <= len(world_list)\n",
    "        elif world_conf is not None:\n",
    "            # the logic of world_conf follows \"a,b,c,d,e\" where:\n",
    "            # the block range from 'a' to 'b' with interval 'c' (and each integer will repeat for 'd' time);\n",
    "            # the block will be repeated for 'e' times.\n",
    "            return configure_gpu(world_conf)\n",
    "        else:\n",
    "            raise RuntimeError(\n",
    "                \"you should at least make sure world or world_conf is not None.\"\n",
    "            )\n",
    "        return [int(l) for l in world_list]\n",
    "\n",
    "    @property\n",
    "    def primary_device(self):\n",
    "        return self.devices[0]\n",
    "\n",
    "    @property\n",
    "    def devices(self):\n",
    "        return self.world\n",
    "\n",
    "    @property\n",
    "    def on_cuda(self):\n",
    "        return self._on_cuda\n",
    "\n",
    "    @property\n",
    "    def ranks(self):\n",
    "        return list(range(1 + self.n_participated))\n",
    "\n",
    "    @property\n",
    "    def world(self):\n",
    "        return self._world\n",
    "\n",
    "    def get_device(self, rank):\n",
    "        return self.devices[rank]\n",
    "\n",
    "    def change_n_participated(self, n_participated):\n",
    "        self.n_participated = n_participated\n",
    "\n",
    "\n",
    "def define_graph_topology(world, world_conf, n_participated, on_cuda):\n",
    "    return PhysicalLayout(\n",
    "        n_participated=n_participated,\n",
    "        world=world,\n",
    "        world_conf=world_conf,\n",
    "        on_cuda=on_cuda,\n",
    "    )\n"
   ]
  },
  {
   "cell_type": "code",
   "execution_count": 34,
   "id": "85e33995",
   "metadata": {},
   "outputs": [],
   "source": [
    "world_conf=\"0,0,1,1,100\""
   ]
  },
  {
   "cell_type": "code",
   "execution_count": 35,
   "id": "4b175a68",
   "metadata": {},
   "outputs": [],
   "source": [
    "world=None"
   ]
  },
  {
   "cell_type": "code",
   "execution_count": 36,
   "id": "c8be2a59",
   "metadata": {},
   "outputs": [],
   "source": [
    "on_cuda=True"
   ]
  },
  {
   "cell_type": "code",
   "execution_count": 37,
   "id": "d2f77c14",
   "metadata": {},
   "outputs": [],
   "source": [
    "n_participated=5"
   ]
  },
  {
   "cell_type": "code",
   "execution_count": 38,
   "id": "891c8ecf",
   "metadata": {},
   "outputs": [],
   "source": [
    "graph =define_graph_topology(world_conf,world,n_participated,on_cuda)"
   ]
  },
  {
   "cell_type": "code",
   "execution_count": 39,
   "id": "acc21b1b",
   "metadata": {},
   "outputs": [
    {
     "data": {
      "text/plain": [
       "[0, 0, 1, 1, 100]"
      ]
     },
     "execution_count": 39,
     "metadata": {},
     "output_type": "execute_result"
    }
   ],
   "source": [
    "graph.world"
   ]
  },
  {
   "cell_type": "code",
   "execution_count": 40,
   "id": "f76f1a4c",
   "metadata": {},
   "outputs": [
    {
     "data": {
      "text/plain": [
       "<bound method PhysicalLayout.get_device of <__main__.PhysicalLayout object at 0x7f6d786eb850>>"
      ]
     },
     "execution_count": 40,
     "metadata": {},
     "output_type": "execute_result"
    }
   ],
   "source": [
    "graph.get_device"
   ]
  },
  {
   "cell_type": "code",
   "execution_count": 43,
   "id": "cbfdbf9e",
   "metadata": {},
   "outputs": [
    {
     "data": {
      "text/plain": [
       "[0,\n",
       " 0,\n",
       " 0,\n",
       " 0,\n",
       " 0,\n",
       " 0,\n",
       " 0,\n",
       " 0,\n",
       " 0,\n",
       " 0,\n",
       " 0,\n",
       " 0,\n",
       " 0,\n",
       " 0,\n",
       " 0,\n",
       " 0,\n",
       " 0,\n",
       " 0,\n",
       " 0,\n",
       " 0,\n",
       " 0,\n",
       " 0,\n",
       " 0,\n",
       " 0,\n",
       " 0,\n",
       " 0,\n",
       " 0,\n",
       " 0,\n",
       " 0,\n",
       " 0,\n",
       " 0,\n",
       " 0,\n",
       " 0,\n",
       " 0,\n",
       " 0,\n",
       " 0,\n",
       " 0,\n",
       " 0,\n",
       " 0,\n",
       " 0,\n",
       " 0,\n",
       " 0,\n",
       " 0,\n",
       " 0,\n",
       " 0,\n",
       " 0,\n",
       " 0,\n",
       " 0,\n",
       " 0,\n",
       " 0,\n",
       " 0,\n",
       " 0,\n",
       " 0,\n",
       " 0,\n",
       " 0,\n",
       " 0,\n",
       " 0,\n",
       " 0,\n",
       " 0,\n",
       " 0,\n",
       " 0,\n",
       " 0,\n",
       " 0,\n",
       " 0,\n",
       " 0,\n",
       " 0,\n",
       " 0,\n",
       " 0,\n",
       " 0,\n",
       " 0,\n",
       " 0,\n",
       " 0,\n",
       " 0,\n",
       " 0,\n",
       " 0,\n",
       " 0,\n",
       " 0,\n",
       " 0,\n",
       " 0,\n",
       " 0,\n",
       " 0,\n",
       " 0,\n",
       " 0,\n",
       " 0,\n",
       " 0,\n",
       " 0,\n",
       " 0,\n",
       " 0,\n",
       " 0,\n",
       " 0,\n",
       " 0,\n",
       " 0,\n",
       " 0,\n",
       " 0,\n",
       " 0,\n",
       " 0,\n",
       " 0,\n",
       " 0,\n",
       " 0,\n",
       " 0]"
      ]
     },
     "execution_count": 43,
     "metadata": {},
     "output_type": "execute_result"
    }
   ],
   "source": [
    "configure_gpu(world_conf)"
   ]
  },
  {
   "cell_type": "code",
   "execution_count": null,
   "id": "d6f0d0eb",
   "metadata": {},
   "outputs": [],
   "source": [
    "\n",
    "\n",
    "\n",
    "class Graph():\n",
    "    def __init__(self, rank, n_processes ,world, on_cuda):\n",
    "        self._rank = rank\n",
    "        self._n_processes = n_processes\n",
    "        self._world = world\n",
    "        self._on_cuda = on_cuda\n",
    "        \n",
    "    @property\n",
    "    def rank(self):\n",
    "        return self._rank\n",
    "    \n",
    "    @property\n",
    "    def n_processes(self):\n",
    "        return self._n_processes\n",
    "    \n",
    "    @property\n",
    "    def on_cuda(self):\n",
    "        return self._on_cuda\n",
    "    \n",
    "    \n",
    "    @property\n",
    "    def world(self):\n",
    "        return self._world\n",
    "\n",
    "\n",
    "    \n",
    "        "
   ]
  }
 ],
 "metadata": {
  "kernelspec": {
   "display_name": "Python 3",
   "language": "python",
   "name": "python3"
  },
  "language_info": {
   "codemirror_mode": {
    "name": "ipython",
    "version": 3
   },
   "file_extension": ".py",
   "mimetype": "text/x-python",
   "name": "python",
   "nbconvert_exporter": "python",
   "pygments_lexer": "ipython3",
   "version": "3.8.0"
  }
 },
 "nbformat": 4,
 "nbformat_minor": 5
}
